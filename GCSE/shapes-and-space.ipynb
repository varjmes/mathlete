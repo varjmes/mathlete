{
 "cells": [
  {
   "cell_type": "markdown",
   "metadata": {},
   "source": [
    "# Shapes and Space\n",
    "\n",
    "* Angles on a straight line = $180^{\\circ}$\n",
    "* Vertically opposite angles are identical\n",
    "* A set of parallel lines have alternate and corresponding angles\n",
    "* **Rotational symmetry:** A shape has rotational symmetry if it still looks the same after a rotation of less than one turn ($360^{\\circ}$)\n",
    "\n",
    "## Triangles\n",
    "\n",
    "* **Equilateral triangle**: three sides of the same length, each angle is $60^{\\circ}$\n",
    "* **Isosceles triangle**: two equal sides, two equal angles\n",
    "* **Scalene triangle**: different sides, different angles\n",
    "* **Right angle triangle**: one angle is $90^{\\circ}$, hypoteneuse is the longest side\n",
    "* The sum of angles in a triangle = $180^{\\circ}$\n",
    "* The size of an exterior angle can of a triangle can be found by summing the two angles opposite to it\n",
    "* The sum of all exterior angles of a triangle = $360^{\\circ}$\n",
    "\n",
    "## Quadrilaterals\n",
    "\n",
    "* Any 2D shape with four straight edges, four vertices\n",
    "* You can split any quadrilateral into two triangles\n",
    "* Sum of interior angles = $360^{\\circ}$\n",
    "* Sum of exterior angles = $360^{\\circ}$\n",
    "* A parallelogram has two sets of parallel sides\n",
    "* A trapezium has one set of parallel sides, no symmetry\n",
    "* Lines are perpendicular if they intersect at a right angle. _See perpendicular bisection_\n",
    "\n",
    "## Polygons\n",
    "\n",
    "* A figure with a finite number of straight edges that connect to form a closed polygonal chain\n",
    "* Any 2D shape formed with a straight line\n",
    "* Polygons can always be divided into triangles\n",
    "* Number of triangles in a polygon can be found with $n - 2$ where $n$ is no. of sides\n",
    "* Sum of interior angles within a polygon = $180(n-2)$\n",
    "* In a regular polygon, all interior angles are equal\n",
    "* Sum of exterior angles = $360^{\\circ}$\n",
    "* In a regular polygon, all exterior angles are equal and found with $\\dfrac{360}{n}$\n",
    "* All regular polygons can be divided into equal isosceles triangles, apart from a hexagon which can be divided into equilaterals\n",
    "* Interior + exterior angle = $180^{\\circ}$\n",
    "\n",
    "## Bearings\n",
    "\n",
    "* A method of describing directions\n",
    "* Ships use them to navigate and they're measured in degrees\n",
    "* A bearing is measured from the north line, measured clockwise and has three figures: $030^{\\circ}$\n",
    "\n",
    "## Similar triangles\n",
    "\n",
    "* Triangles are similar if corresponding angles are equal and the ratios of the corresponding sides are equal"
   ]
  }
 ],
 "metadata": {
  "kernelspec": {
   "display_name": "Python 3",
   "language": "python",
   "name": "python3"
  },
  "language_info": {
   "codemirror_mode": {
    "name": "ipython",
    "version": 3
   },
   "file_extension": ".py",
   "mimetype": "text/x-python",
   "name": "python",
   "nbconvert_exporter": "python",
   "pygments_lexer": "ipython3",
   "version": "3.8.5"
  }
 },
 "nbformat": 4,
 "nbformat_minor": 4
}
