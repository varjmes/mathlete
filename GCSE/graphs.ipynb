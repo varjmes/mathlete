{
 "cells": [
  {
   "cell_type": "markdown",
   "metadata": {},
   "source": [
    "# Graphs\n",
    "\n",
    "* **Linear Equation:** an equation where a term is either a constant or a constant times a variable raised to the first power\n",
    "\n",
    "* **Unit rate**: rate at which $y$ changes with respect to $x$, i.e slope/gradient\n",
    " \n",
    "* The slope of a line is its gradient; larger the gradient, steeper the slope\n",
    "\n",
    "$\\quad m = \\dfrac{\\Delta y}{\\Delta x} = \\dfrac{\\text{'rise'}}{\\text{'run'}}$\n",
    "\n",
    "* Straight lines have no gradient\n",
    "\n",
    "* Parallel lines have the same gradient\n",
    "\n",
    "* A straight line graph can be displayed in the slope-intercept form, where $b$ is the $y$-intercept\n",
    "\n",
    "$\\quad y = mx + b$\n",
    "\n",
    "* A straight line graph can also take the standard form for linear equations. When written in standard form, $a, b$ must be integers where fractions are allowed in slope-intercept form\n",
    "\n",
    "$\\quad ax + by = c$\n",
    "\n",
    "* Standrd form excels at finding the $x$ and $y$ intercepts\n",
    "\n",
    "* A straight line graph can be proven to be a functional relationship if it only has one intercept, if you can draw a vertical line across the relationship and it intersects more than one point on the line, it is not functional. A function $f(x)$ can only have one output for each input of $x$\n",
    "\n",
    "* Reading from a graph is not an exact science so values garnered may not be accurate\n",
    "\n",
    "## Functions\n",
    "\n",
    "* A function takes one input, produces one constant output: $f(x)$\n",
    "\n",
    "* The difference between an _equation_ and a _function_ is that equations deal with equivalences ($x + 3 = 10$) and functions focus on the relationships between variables. \n",
    "    * A function _can_ be an equation\n",
    "    * A function is a special case of a relationship, not all relationships are functions\n",
    "    * A function does not need to be numerical (see: programming)\n",
    "    \n",
    "* Functions can be linear and non-linear\n",
    "    * Linear: For any given change in $x$, the change in $y$ will always be constant. No values have exponents (except to the power of 1)\n",
    "    * Non-linear: not a straight line, one or more variables have exponents\n",
    "\n",
    "\n",
    "## Inequalities\n",
    "\n",
    "* An inequality is the relationship between two expressions that are not equal to eachother, using $\\leq$ and $\\geq$\n",
    "* A system of inequalities is a set of two or more inequalities\n",
    "\n",
    "## Miscellaneous\n",
    "\n",
    "* Subscript numbers tell you the term of the sequence you're looking at\n",
    "\n",
    "$\\quad \\text{Fibonnaci:} F_n = F_{n-1} + F_{n-2}\\ldots$\n",
    "\n"
   ]
  },
  {
   "cell_type": "code",
   "execution_count": null,
   "metadata": {},
   "outputs": [],
   "source": []
  }
 ],
 "metadata": {
  "kernelspec": {
   "display_name": "Python 3",
   "language": "python",
   "name": "python3"
  },
  "language_info": {
   "codemirror_mode": {
    "name": "ipython",
    "version": 3
   },
   "file_extension": ".py",
   "mimetype": "text/x-python",
   "name": "python",
   "nbconvert_exporter": "python",
   "pygments_lexer": "ipython3",
   "version": "3.8.5"
  }
 },
 "nbformat": 4,
 "nbformat_minor": 4
}
