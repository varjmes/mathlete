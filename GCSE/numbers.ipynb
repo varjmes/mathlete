{
 "cells": [
  {
   "cell_type": "markdown",
   "metadata": {},
   "source": [
    "# Numbers\n",
    "\n",
    "## Fractions\n",
    "\n",
    "A fraction is made up of:\n",
    "\n",
    "$\\quad\\dfrac{numerator}{denominator}$\n",
    "\n",
    "To write a fraction as a decimal, divide the top number by the bottom number:\n",
    "\n",
    "$\\quad\\dfrac{1}{2} = 1\\div2 = 0.5$\n",
    "\n",
    "To divide a fraction, turn it upside down and multiply:\n",
    "\n",
    "$\\quad\\dfrac{1}{2} \\div \\dfrac{3}{4} = \\dfrac{1}{2} \\times \\dfrac{4}{3} = \\dfrac{4}{6} = \\dfrac{2}{3}$\n",
    "\n",
    "When adding and subtracting fractions, the denominators must be the same\n",
    "\n",
    "$\\quad\\dfrac{1}{2} + \\dfrac{3}{4} = \\dfrac{2}{4} + \\dfrac{3}{4} = \\dfrac{5}{4} = 1\\dfrac{1}{4}$\n",
    "\n",
    "To convert a fraction to a decimal, divide the _numerator_ by the _denominator_\n",
    "\n",
    "To convert a decimal to a fraction, place the decimal number over the place value\n",
    "\n",
    "$\\quad0.65 = \\dfrac{65}{100} = \\dfrac{13}{20}$\n",
    "\n",
    "## Significant Figures and Decimal Points\n",
    "\n",
    "The first significant figure is the first _non-zero_ digit in a number\n",
    "\n",
    "$\\quad1361 \\,\\textrm{to}\\, \\,\\textrm{2 s.f.}\\, = 1400$\n",
    "\n",
    "For decimal places count _after_ the decimal point from left to right\n",
    "\n",
    "$\\quad7.1361 \\,\\textrm{to}\\, \\,\\textrm{2 d.p.}\\, = 7.14$\n",
    "\n",
    "## Miscellaneous\n",
    "\n",
    "**Benford's law**: in a dataset, $1$ appears more often (30%) than expected (11%)\n",
    "\n",
    "**Bohr's radius**: a physical constant that amounts to the most probable distance between the nucleus and electron in a hydrogen atom\n",
    "\n"
   ]
  }
 ],
 "metadata": {
  "kernelspec": {
   "display_name": "Python 3",
   "language": "python",
   "name": "python3"
  },
  "language_info": {
   "codemirror_mode": {
    "name": "ipython",
    "version": 3
   },
   "file_extension": ".py",
   "mimetype": "text/x-python",
   "name": "python",
   "nbconvert_exporter": "python",
   "pygments_lexer": "ipython3",
   "version": "3.8.5"
  }
 },
 "nbformat": 4,
 "nbformat_minor": 4
}
