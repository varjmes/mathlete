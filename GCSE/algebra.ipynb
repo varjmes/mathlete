{
 "cells": [
  {
   "cell_type": "markdown",
   "metadata": {},
   "source": [
    "# Algebra\n",
    "\n",
    "## Multiplication\n",
    "\n",
    "When multiplying, add like powers\n",
    "\n",
    "$\\quad2xy^2 \\times 3x \\times x^2y^3 = 6x^4y^5$\n",
    "\n",
    "## Inverse functions\n",
    "\n",
    "An inverse function is a function that links its output value back to its input\n",
    "\n",
    "$\\quad f(x) = f^{-1}(x)$\n",
    "\n",
    "$\\quad f(x) = 5x - 4$\n",
    " \n",
    "$\\quad y = 5x - 4$\n",
    " \n",
    "$\\quad \\dfrac{x + 4}{5} = f^{-1}(x)$\n",
    "\n",
    "## Miscellaneous\n",
    "\n",
    "Force = Mass x Acceleration\n",
    "\n",
    "$\\quad F = M \\times A$\n",
    "\n"
   ]
  }
 ],
 "metadata": {
  "kernelspec": {
   "display_name": "Python 3",
   "language": "python",
   "name": "python3"
  },
  "language_info": {
   "codemirror_mode": {
    "name": "ipython",
    "version": 3
   },
   "file_extension": ".py",
   "mimetype": "text/x-python",
   "name": "python",
   "nbconvert_exporter": "python",
   "pygments_lexer": "ipython3",
   "version": "3.8.5"
  }
 },
 "nbformat": 4,
 "nbformat_minor": 4
}
