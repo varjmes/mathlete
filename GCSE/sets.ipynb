{
 "cells": [
  {
   "cell_type": "markdown",
   "metadata": {},
   "source": [
    "# Sets\n",
    "\n",
    "* A set is a collection of objects where the individual items are elements or members, e.g ${apple, banana, orange}$\n",
    "* orange ∈ A, kiwi ∉ A\n",
    "* {}, ∅ empty set\n",
    "\n",
    "## Venn diagrams\n",
    "\n",
    "* Members of a set are displayed within a closed curve\n",
    "* Subsets, universal set\n",
    "* Intersection of sets: A∩B\n",
    "* A': set of all elements _not_ in A, \"absolute complement of A\"\n",
    "* n(A), |A|: cardinality of the set\n",
    "* Union of sets A∪B: set that belongs to A, B or both A & B\n",
    "* A \\ B: relative complement of Set B in A (A - B)\n",
    "* If A us a subset of B, B is a superset of A\n",
    "* B is a strict subset of A if n(A) does not equal n(B)"
   ]
  },
  {
   "cell_type": "code",
   "execution_count": null,
   "metadata": {},
   "outputs": [],
   "source": []
  }
 ],
 "metadata": {
  "kernelspec": {
   "display_name": "Python 3",
   "language": "python",
   "name": "python3"
  },
  "language_info": {
   "codemirror_mode": {
    "name": "ipython",
    "version": 3
   },
   "file_extension": ".py",
   "mimetype": "text/x-python",
   "name": "python",
   "nbconvert_exporter": "python",
   "pygments_lexer": "ipython3",
   "version": "3.8.5"
  }
 },
 "nbformat": 4,
 "nbformat_minor": 4
}
